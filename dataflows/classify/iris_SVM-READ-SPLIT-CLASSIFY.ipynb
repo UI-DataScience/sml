{
 "cells": [
  {
   "cell_type": "markdown",
   "metadata": {},
   "source": [
    "# Support Vector Machine (SVM)\n"
   ]
  },
  {
   "cell_type": "markdown",
   "metadata": {},
   "source": [
    "This notebook provides and example of how to use SML to read in a dataset, split split the dataset into training and testing data, and perform classification on the dataset. For this use-case we use the publicly aviliable [iris dataset](http://archive.ics.uci.edu/ml/datasets/Iris) to predict the class of iris plants."
   ]
  },
  {
   "cell_type": "markdown",
   "metadata": {},
   "source": [
    "## SML Query"
   ]
  },
  {
   "cell_type": "markdown",
   "metadata": {},
   "source": [
    "### Imports\n",
    "\n",
    "We import the nescessary library to use SML. "
   ]
  },
  {
   "cell_type": "code",
   "execution_count": 1,
   "metadata": {
    "collapsed": true
   },
   "outputs": [],
   "source": [
    "from sml import execute"
   ]
  },
  {
   "cell_type": "markdown",
   "metadata": {},
   "source": [
    "### Query\n",
    "\n",
    "Next we create a query statement to `READ` the iris dataset, perform a 80%/20% `SPLIT` on the dataset for the training and testing set respectively, we use the algorithm SVM to prdict the 5th column in the dataset using columns 1-4 as the features, and lastly we execute the statement."
   ]
  },
  {
   "cell_type": "code",
   "execution_count": 2,
   "metadata": {
    "collapsed": false
   },
   "outputs": [
    {
     "name": "stdout",
     "output_type": "stream",
     "text": [
      "\n",
      "Sml Summary:\n",
      "=============================================\n",
      "=============================================\n",
      "   Dataset Path:        ../data/iris.csv\n",
      "   Delimiter:      None\n",
      "   Training Set Split:       80.00%\n",
      "   Testing Set Split:        20.00%\n",
      "   Predictiors:        ['1', '2', '3', '4']\n",
      "   Label:         5\n",
      "   Algorithm:     svm\n",
      "   Dataset Preview:\n",
      "     0    1    2    3  4\n",
      "0  5.1  3.5  1.4  0.2  0\n",
      "1  4.9  3.0  1.4  0.2  0\n",
      "2  4.7  3.2  1.3  0.2  0\n",
      "3  4.6  3.1  1.5  0.2  0\n",
      "4  5.0  3.6  1.4  0.2  0\n",
      "\n",
      "=============================================\n",
      "=============================================\n",
      "\n"
     ]
    }
   ],
   "source": [
    "query = 'READ \"../data/iris.csv\" AND \\\n",
    " SPLIT (train = .8, test = 0.2) AND \\\n",
    " CLASSIFY (predictors = [1,2,3,4], label = 5, algorithm = svm)'\n",
    "\n",
    "execute(query, verbose=True)"
   ]
  },
  {
   "cell_type": "markdown",
   "metadata": {
    "collapsed": true
   },
   "source": [
    "## Manually\n",
    "\n",
    "The subsequent ceels below show how the same actions of a SML query can be performed manually."
   ]
  },
  {
   "cell_type": "markdown",
   "metadata": {},
   "source": [
    "### IMPORTS\n",
    "\n",
    "We begin by importing the necessary statements libraries needed to perform the same actions as the SML query above."
   ]
  },
  {
   "cell_type": "code",
   "execution_count": 3,
   "metadata": {
    "collapsed": true
   },
   "outputs": [],
   "source": [
    "import pandas as pd\n",
    "import numpy as np\n",
    "\n",
    "from sklearn.preprocessing import label_binarize\n",
    "import sklearn.cross_validation as cv\n",
    "from sklearn.multiclass import OneVsRestClassifier\n",
    "from sklearn.svm import SVC\n",
    "from sklearn.metrics import roc_curve, auc\n",
    "\n",
    "import matplotlib.pyplot as plt\n",
    "import seaborn as sns\n",
    "\n",
    "%matplotlib inline"
   ]
  },
  {
   "cell_type": "markdown",
   "metadata": {},
   "source": [
    "### READ\n",
    " \n",
    " Next we read in the dataset into a pandas dataframe, by default this dataset does not contain a header, so we manually specify this."
   ]
  },
  {
   "cell_type": "code",
   "execution_count": 4,
   "metadata": {
    "collapsed": false
   },
   "outputs": [],
   "source": [
    "names = ['sepal length(cm)', 'sepal width(cm)', 'petal length(cm)', 'petal width(cm)', 'species']\n",
    "data = pd.read_csv('../data/iris.csv', names=names)"
   ]
  },
  {
   "cell_type": "markdown",
   "metadata": {},
   "source": [
    "### Preprocessing\n",
    "\n",
    "Next we seperate the features from the labels. Lastly, we binarize the data so that it is possible to generate metrics such as ROC curves, and identify all of the classes in the iris dataset. ."
   ]
  },
  {
   "cell_type": "code",
   "execution_count": 5,
   "metadata": {
    "collapsed": false
   },
   "outputs": [],
   "source": [
    "iris_classes = ['Iris-setosa', 'Iris-versicolor', 'Iris-virginica']\n",
    "features = np.c_[data.drop('species',1).values]\n",
    "labels = label_binarize(data['species'], classes=iris_classes)\n",
    "\n",
    "n_classes = labels.shape[1]"
   ]
  },
  {
   "cell_type": "markdown",
   "metadata": {},
   "source": [
    "### SPLIT\n",
    "\n",
    "We then split the dataset using 75% of it for the training set and 25% for testing set."
   ]
  },
  {
   "cell_type": "code",
   "execution_count": 6,
   "metadata": {
    "collapsed": true
   },
   "outputs": [],
   "source": [
    "(x_train, x_test, y_train, y_test) = cv.train_test_split(features, labels, test_size=0.25)"
   ]
  },
  {
   "cell_type": "markdown",
   "metadata": {},
   "source": [
    "### CLASSIFY\n",
    "#### Training\n",
    "\n",
    "Next we create a svm model and fit it on the training data."
   ]
  },
  {
   "cell_type": "code",
   "execution_count": 7,
   "metadata": {
    "collapsed": false
   },
   "outputs": [
    {
     "name": "stdout",
     "output_type": "stream",
     "text": [
      "Accuracy: 0.631578947368\n"
     ]
    }
   ],
   "source": [
    "svm = OneVsRestClassifier(SVC(kernel='linear', probability=True))\n",
    "model = svm.fit(x_train, y_train)\n",
    "print('Accuracy:', model.score(x_test, y_test))"
   ]
  },
  {
   "cell_type": "code",
   "execution_count": null,
   "metadata": {
    "collapsed": true
   },
   "outputs": [],
   "source": []
  }
 ],
 "metadata": {
  "anaconda-cloud": {},
  "kernelspec": {
   "display_name": "Python [Root]",
   "language": "python",
   "name": "Python [Root]"
  },
  "language_info": {
   "codemirror_mode": {
    "name": "ipython",
    "version": 3
   },
   "file_extension": ".py",
   "mimetype": "text/x-python",
   "name": "python",
   "nbconvert_exporter": "python",
   "pygments_lexer": "ipython3",
   "version": "3.5.2"
  }
 },
 "nbformat": 4,
 "nbformat_minor": 0
}
